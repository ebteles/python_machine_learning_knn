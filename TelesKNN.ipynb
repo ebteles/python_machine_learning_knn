{
 "cells": [
  {
   "cell_type": "markdown",
   "metadata": {},
   "source": [
    "<h3>Como fiz:</h3>\n",
    "<ol>\n",
    "    <li>Submeti um conjunto de imagens ao notebook EAST</li>\n",
    "    <li>Dos box salvos, selecionei as imagens das três classes, a saber: colgate, luminous e white</li>\n",
    "    <li>Submeti-as a este notebook</li>\n",
    "    <li>A precisão foi de 76.79%\n",
    "</ol>"
   ]
  },
  {
   "cell_type": "code",
   "execution_count": 2,
   "metadata": {},
   "outputs": [],
   "source": [
    "    from sklearn.neighbors import KNeighborsClassifier\n",
    "    from sklearn.model_selection import train_test_split\n",
    "    from imutils import paths\n",
    "    import numpy as np\n",
    "    import argparse\n",
    "    import imutils\n",
    "    import cv2\n",
    "    import os\n",
    "    import pickle\n",
    "    import UnoKnnClassifier as uno"
   ]
  },
  {
   "cell_type": "code",
   "execution_count": 3,
   "metadata": {},
   "outputs": [],
   "source": [
    "# parâmetros\n",
    "dataset = r'D:\\Teles\\Desenvolvimento\\JupyterNotebooks\\KerasCNN\\colgate_v2\\train'\n",
    "neighbors = 1\n",
    "jobs = 1\n",
    "model_name = './model/knn_colgate_model'\n",
    "imagePaths = list(paths.list_images(dataset))"
   ]
  },
  {
   "cell_type": "code",
   "execution_count": 4,
   "metadata": {},
   "outputs": [
    {
     "name": "stdout",
     "output_type": "stream",
     "text": [
      "classes: ['ColgateLuminous', 'ColgateSensitive', 'ColgateTotal12', 'ColgateTriplaAcao']\n",
      "Modelo 1 (rpi):  93.61702127659575\n",
      "Modelo 2 (his):  87.2340425531915\n"
     ]
    }
   ],
   "source": [
    "classes, r1, r2 = uno.train(imagePaths, model_name)\n",
    "print('classes:', classes)\n",
    "print('Modelo 1 (rpi): ', r1)\n",
    "print('Modelo 2 (his): ', r2)"
   ]
  },
  {
   "cell_type": "code",
   "execution_count": 5,
   "metadata": {},
   "outputs": [
    {
     "name": "stderr",
     "output_type": "stream",
     "text": [
      "D:\\ProgramData\\Anaconda3\\envs\\MaLe\\lib\\site-packages\\sklearn\\base.py:251: UserWarning: Trying to unpickle estimator KNeighborsClassifier from version 0.20.0 when using version 0.20.2. This might lead to breaking code or invalid results. Use at your own risk.\n",
      "  UserWarning)\n"
     ]
    }
   ],
   "source": [
    "model_rpi, classes = uno.model_load('./model/knn_model_rpi.model')\n",
    "model_his, classes = uno.model_load('./model/knn_model_his.model')"
   ]
  },
  {
   "cell_type": "code",
   "execution_count": 6,
   "metadata": {},
   "outputs": [
    {
     "name": "stdout",
     "output_type": "stream",
     "text": [
      "_nd_: 100.0%\n",
      "_nd_: 100.0%\n"
     ]
    }
   ],
   "source": [
    "path_img = r'D:\\MachineLearning\\CatalogoProdutos\\Higiene_Saude_Beleza\\CremeDental\\Colgate\\Total\\maiores\\total12_008.jpg'\n",
    "classe, proba = uno.predict_rpi(model_rpi, classes, path_img )\n",
    "print('{}: {}%'.format(classe, proba))\n",
    "\n",
    "classe, proba = uno.predict_his(model_his, classes, path_img )\n",
    "print('{}: {}%'.format(classe, proba))"
   ]
  },
  {
   "cell_type": "code",
   "execution_count": 6,
   "metadata": {},
   "outputs": [
    {
     "name": "stdout",
     "output_type": "stream",
     "text": [
      "_nd_: 100.0%\n",
      "_nd_: 100.0%\n"
     ]
    }
   ],
   "source": [
    "# nao deve detectar NADA\n",
    "classe, proba = uno.predict_rpi(model_rpi, classes, './colgate/test/dor_001.jpg' )\n",
    "print('{}: {}%'.format(classe, proba))\n",
    "\n",
    "# nao deve detectar NADA\n",
    "classe, proba = uno.predict_his(model_his, classes, './colgate/test/dor_001.jpg' )\n",
    "print('{}: {}%'.format(classe, proba))"
   ]
  },
  {
   "cell_type": "code",
   "execution_count": 7,
   "metadata": {},
   "outputs": [
    {
     "data": {
      "text/plain": [
       "['_nd_', 'colgate', 'luminous_n1', 'luminous_n2', 'total12_n1', 'total12_n2']"
      ]
     },
     "execution_count": 7,
     "metadata": {},
     "output_type": "execute_result"
    }
   ],
   "source": [
    "classes\n"
   ]
  },
  {
   "cell_type": "code",
   "execution_count": 7,
   "metadata": {},
   "outputs": [
    {
     "name": "stdout",
     "output_type": "stream",
     "text": [
      "his\n"
     ]
    }
   ],
   "source": [
    "x = './model/knn_model_his.model'\n",
    "y = x[-9:-6].lower()\n",
    "print(y)"
   ]
  },
  {
   "cell_type": "code",
   "execution_count": null,
   "metadata": {},
   "outputs": [],
   "source": []
  }
 ],
 "metadata": {
  "kernelspec": {
   "display_name": "Python 3",
   "language": "python",
   "name": "python3"
  },
  "language_info": {
   "codemirror_mode": {
    "name": "ipython",
    "version": 3
   },
   "file_extension": ".py",
   "mimetype": "text/x-python",
   "name": "python",
   "nbconvert_exporter": "python",
   "pygments_lexer": "ipython3",
   "version": "3.8.5"
  }
 },
 "nbformat": 4,
 "nbformat_minor": 2
}
